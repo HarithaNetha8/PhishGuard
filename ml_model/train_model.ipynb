{
 "cells": [
  {
   "cell_type": "code",
   "execution_count": null,
   "id": "4346e1d6",
   "metadata": {},
   "outputs": [
    {
     "name": "stdout",
     "output_type": "stream",
     "text": [
      "   index  having_IPhaving_IP_Address  URLURL_Length  Shortining_Service  \\\n",
      "0      1                          -1              1                   1   \n",
      "1      2                           1              1                   1   \n",
      "2      3                           1              0                   1   \n",
      "3      4                           1              0                   1   \n",
      "4      5                           1              0                  -1   \n",
      "\n",
      "   having_At_Symbol  double_slash_redirecting  Prefix_Suffix  \\\n",
      "0                 1                        -1             -1   \n",
      "1                 1                         1             -1   \n",
      "2                 1                         1             -1   \n",
      "3                 1                         1             -1   \n",
      "4                 1                         1             -1   \n",
      "\n",
      "   having_Sub_Domain  SSLfinal_State  Domain_registeration_length  ...  \\\n",
      "0                 -1              -1                           -1  ...   \n",
      "1                  0               1                           -1  ...   \n",
      "2                 -1              -1                           -1  ...   \n",
      "3                 -1              -1                            1  ...   \n",
      "4                  1               1                           -1  ...   \n",
      "\n",
      "   popUpWidnow  Iframe  age_of_domain  DNSRecord  web_traffic  Page_Rank  \\\n",
      "0            1       1             -1         -1           -1         -1   \n",
      "1            1       1             -1         -1            0         -1   \n",
      "2            1       1              1         -1            1         -1   \n",
      "3            1       1             -1         -1            1         -1   \n",
      "4           -1       1             -1         -1            0         -1   \n",
      "\n",
      "   Google_Index  Links_pointing_to_page  Statistical_report  Result  \n",
      "0             1                       1                  -1      -1  \n",
      "1             1                       1                   1      -1  \n",
      "2             1                       0                  -1      -1  \n",
      "3             1                      -1                   1      -1  \n",
      "4             1                       1                   1       1  \n",
      "\n",
      "[5 rows x 32 columns]\n",
      "Result\n",
      " 1    6157\n",
      "-1    4898\n",
      "Name: count, dtype: int64\n"
     ]
    }
   ],
   "source": [
    "import pandas as pd\n",
    "\n",
    "df = pd.read_csv(\"phishing.csv\")\n",
    "print(df.head())\n",
    "print(df['Result'].value_counts())\n",
    "print(df.columns)\n"
   ]
  },
  {
   "cell_type": "code",
   "execution_count": 6,
   "id": "ad38b2dc",
   "metadata": {},
   "outputs": [],
   "source": [
    "df.drop(['index'], axis=1, inplace=True)\n"
   ]
  },
  {
   "cell_type": "code",
   "execution_count": 7,
   "id": "0ed544aa",
   "metadata": {},
   "outputs": [],
   "source": [
    "X = df.drop('Result', axis=1)  # all features\n",
    "y = df['Result']\n",
    "\n",
    "# Convert labels to binary: phishing (1), legitimate (0)\n",
    "y = y.apply(lambda x: 1 if x == -1 else 0)  # convert -1 → 1 (phishing), others → 0\n"
   ]
  },
  {
   "cell_type": "code",
   "execution_count": 8,
   "id": "d3cd728f",
   "metadata": {},
   "outputs": [],
   "source": [
    "from sklearn.model_selection import train_test_split\n",
    "X_train, X_test, y_train, y_test = train_test_split(X, y, test_size=0.2, random_state=42)\n"
   ]
  },
  {
   "cell_type": "code",
   "execution_count": 9,
   "id": "45ca9852",
   "metadata": {},
   "outputs": [
    {
     "name": "stdout",
     "output_type": "stream",
     "text": [
      "Random Forest Accuracy: 0.9669832654907282\n",
      "              precision    recall  f1-score   support\n",
      "\n",
      "           0       0.96      0.98      0.97      1255\n",
      "           1       0.97      0.95      0.96       956\n",
      "\n",
      "    accuracy                           0.97      2211\n",
      "   macro avg       0.97      0.97      0.97      2211\n",
      "weighted avg       0.97      0.97      0.97      2211\n",
      "\n"
     ]
    }
   ],
   "source": [
    "from sklearn.ensemble import RandomForestClassifier\n",
    "from sklearn.metrics import accuracy_score, classification_report\n",
    "\n",
    "rf_model = RandomForestClassifier(n_estimators=100, random_state=42)\n",
    "rf_model.fit(X_train, y_train)\n",
    "y_pred = rf_model.predict(X_test)\n",
    "\n",
    "print(\"Random Forest Accuracy:\", accuracy_score(y_test, y_pred))\n",
    "print(classification_report(y_test, y_pred))\n"
   ]
  }
 ],
 "metadata": {
  "kernelspec": {
   "display_name": "Python 3",
   "language": "python",
   "name": "python3"
  },
  "language_info": {
   "codemirror_mode": {
    "name": "ipython",
    "version": 3
   },
   "file_extension": ".py",
   "mimetype": "text/x-python",
   "name": "python",
   "nbconvert_exporter": "python",
   "pygments_lexer": "ipython3",
   "version": "3.10.0"
  }
 },
 "nbformat": 4,
 "nbformat_minor": 5
}
